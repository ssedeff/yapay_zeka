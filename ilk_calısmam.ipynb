{
 "cells": [
  {
   "cell_type": "markdown",
   "id": "66a0c05e-1b22-443b-aa5d-de13276b9cb2",
   "metadata": {},
   "source": [
    "**Numpy Dizi İşlemeleri**"
   ]
  },
  {
   "cell_type": "code",
   "execution_count": 26,
   "id": "6ab326ce-dff3-4e5e-a199-cbff3eeb06ef",
   "metadata": {},
   "outputs": [],
   "source": [
    "\n",
    "import numpy as np #numpy kütüphanesini np takma adı ile projeye dahil ediyoruz"
   ]
  },
  {
   "cell_type": "code",
   "execution_count": 6,
   "id": "2c5b41e9-4bd9-430f-bc35-1c738208cde1",
   "metadata": {},
   "outputs": [
    {
     "data": {
      "text/plain": [
       "array([[5, 5, 5],\n",
       "       [5, 5, 5],\n",
       "       [5, 5, 5],\n",
       "       [5, 5, 5]])"
      ]
     },
     "execution_count": 6,
     "metadata": {},
     "output_type": "execute_result"
    }
   ],
   "source": [
    "dizi=np.full((4,3),5)\n",
    "dizi"
   ]
  },
  {
   "cell_type": "code",
   "execution_count": 11,
   "id": "ad7e2c2b-f327-4e9e-8b30-4d4e9af014d1",
   "metadata": {},
   "outputs": [
    {
     "data": {
      "text/plain": [
       "array([1, 2, 3])"
      ]
     },
     "execution_count": 11,
     "metadata": {},
     "output_type": "execute_result"
    }
   ],
   "source": [
    "#yeni bir numpy dizisi oluşturuyoruz\n",
    "np.array([1,2,3])"
   ]
  },
  {
   "cell_type": "code",
   "execution_count": 14,
   "id": "e0ad6804-b972-4f17-9fbf-3f8fe57bf454",
   "metadata": {},
   "outputs": [],
   "source": [
    "#oluşturduğumuz diziyi bir değişkene aktarıyoruz\n",
    "dizi=np.array([\"elma\",\"erik\",\"iğde\"])"
   ]
  },
  {
   "cell_type": "code",
   "execution_count": 19,
   "id": "048e2893-c41b-42bf-8ab7-a5e18eb9384b",
   "metadata": {},
   "outputs": [
    {
     "data": {
      "text/plain": [
       "array([1.  , 2.  , 3.14])"
      ]
     },
     "execution_count": 19,
     "metadata": {},
     "output_type": "execute_result"
    }
   ],
   "source": [
    "dizi"
   ]
  },
  {
   "cell_type": "code",
   "execution_count": null,
   "id": "8d92a3f3-f14d-4503-a01b-c2a56d0e5d09",
   "metadata": {},
   "outputs": [],
   "source": [
    "dizi=np.array([1.2.3])"
   ]
  },
  {
   "cell_type": "code",
   "execution_count": 16,
   "id": "03aca0e5-cc7b-4ea2-8cf6-67224a83e2aa",
   "metadata": {},
   "outputs": [],
   "source": [
    "dizi=np.array([1,2,3.14])"
   ]
  },
  {
   "cell_type": "code",
   "execution_count": 18,
   "id": "2c7776ee-1e51-4e9d-8d44-6c3e37cb9fc0",
   "metadata": {},
   "outputs": [
    {
     "data": {
      "text/plain": [
       "dtype('float64')"
      ]
     },
     "execution_count": 18,
     "metadata": {},
     "output_type": "execute_result"
    }
   ],
   "source": [
    "dizi.dtype #dizi değişken türünü verir.numpy dizelerinde elemanların hepsi aynı ttürdedir"
   ]
  },
  {
   "cell_type": "code",
   "execution_count": null,
   "id": "2b5f26b8-d129-412b-bd81-239372281b09",
   "metadata": {},
   "outputs": [],
   "source": [
    "dizi=np.array([1,2,3.14],dtype=int)"
   ]
  },
  {
   "cell_type": "markdown",
   "id": "7190e77f-80ce-4b58-a85d-514c58632d43",
   "metadata": {},
   "source": [
    "**numpy ile farklı boyutlarda dizi oluşturma**"
   ]
  },
  {
   "cell_type": "code",
   "execution_count": 30,
   "id": "144f5e34-aba1-4aba-a8a0-5272ed080007",
   "metadata": {},
   "outputs": [],
   "source": [
    "#bir boyutlu dizi oluşturma \n",
    "birboyut=np.array([1,2,3,4])\n",
    "#iki boyutlu dizi oluşturma\n",
    "ikiboyut=np.array([[1,2,3,4],[5,6,7,8],[9,10,11,12]])"
   ]
  },
  {
   "cell_type": "code",
   "execution_count": 31,
   "id": "7ac9db7e-dd4d-4a57-9f2b-a28a0e02ceaf",
   "metadata": {},
   "outputs": [
    {
     "data": {
      "text/plain": [
       "array([1, 2, 3, 4])"
      ]
     },
     "execution_count": 31,
     "metadata": {},
     "output_type": "execute_result"
    }
   ],
   "source": [
    "birboyut"
   ]
  },
  {
   "cell_type": "code",
   "execution_count": 32,
   "id": "c545cfca-e3b9-411d-ae01-209c3ddf64f7",
   "metadata": {},
   "outputs": [
    {
     "data": {
      "text/plain": [
       "array([[ 1,  2,  3,  4],\n",
       "       [ 5,  6,  7,  8],\n",
       "       [ 9, 10, 11, 12]])"
      ]
     },
     "execution_count": 32,
     "metadata": {},
     "output_type": "execute_result"
    }
   ],
   "source": [
    "ikiboyut"
   ]
  },
  {
   "cell_type": "markdown",
   "id": "52d4e8ff-d6ad-4582-a113-1dba2b964a42",
   "metadata": {},
   "source": [
    "**numpy yer tutucular**"
   ]
  },
  {
   "cell_type": "code",
   "execution_count": 33,
   "id": "79ad5bab-751e-48c1-8657-664503e17b6e",
   "metadata": {},
   "outputs": [
    {
     "data": {
      "text/plain": [
       "array([0., 0., 0., 0., 0., 0., 0.])"
      ]
     },
     "execution_count": 33,
     "metadata": {},
     "output_type": "execute_result"
    }
   ],
   "source": [
    "np.zeros(7) #7 sıfırdan oluşan tek boyutlu dizi oluşturur"
   ]
  },
  {
   "cell_type": "code",
   "execution_count": 34,
   "id": "ea2573d5-6fef-4db6-8dd4-c31e05069431",
   "metadata": {},
   "outputs": [
    {
     "data": {
      "text/plain": [
       "array([[0, 0, 0],\n",
       "       [0, 0, 0]])"
      ]
     },
     "execution_count": 34,
     "metadata": {},
     "output_type": "execute_result"
    }
   ],
   "source": [
    "np.zeros((2,3),dtype=int) #* sıfırdan oluşan 2 boyutlu int dizi oluşturur"
   ]
  },
  {
   "cell_type": "code",
   "execution_count": null,
   "id": "6952c78f-542f-4732-946d-0ceac9439fa8",
   "metadata": {},
   "outputs": [],
   "source": []
  }
 ],
 "metadata": {
  "kernelspec": {
   "display_name": "Python 3 (ipykernel)",
   "language": "python",
   "name": "python3"
  },
  "language_info": {
   "codemirror_mode": {
    "name": "ipython",
    "version": 3
   },
   "file_extension": ".py",
   "mimetype": "text/x-python",
   "name": "python",
   "nbconvert_exporter": "python",
   "pygments_lexer": "ipython3",
   "version": "3.11.7"
  }
 },
 "nbformat": 4,
 "nbformat_minor": 5
}
